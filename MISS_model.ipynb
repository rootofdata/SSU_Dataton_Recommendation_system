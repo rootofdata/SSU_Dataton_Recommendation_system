{
 "cells": [
  {
   "cell_type": "code",
   "execution_count": null,
   "metadata": {},
   "outputs": [],
   "source": [
    "!pip install surprise"
   ]
  },
  {
   "cell_type": "code",
   "execution_count": null,
   "metadata": {},
   "outputs": [],
   "source": [
    "!pip install optuna"
   ]
  },
  {
   "cell_type": "code",
   "execution_count": 1,
   "metadata": {},
   "outputs": [
    {
     "name": "stdout",
     "output_type": "stream",
     "text": [
      "- os: Windows-10-10.0.19041-SP0\n",
      "- python: 3.7.13 (default, Mar 28 2022, 08:03:21) [MSC v.1916 64 bit (AMD64)]\n",
      "- pandas: 1.3.5\n",
      "- numpy: 1.21.6\n",
      "- surprise: 1.1.1\n"
     ]
    }
   ],
   "source": [
    "import pandas as pd\n",
    "import surprise\n",
    "from surprise import Reader,Dataset,KNNBasic,KNNWithMeans,KNNWithZScore,KNNBaseline, SVD,SVDpp,NMF,BaselineOnly\n",
    "from surprise import Dataset\n",
    "from surprise.model_selection import cross_validate\n",
    "import seaborn as sns\n",
    "from surprise.accuracy import rmse\n",
    "from surprise import accuracy\n",
    "from surprise.model_selection import train_test_split\n",
    "from surprise.model_selection import GridSearchCV\n",
    "\n",
    "import os\n",
    "import sys\n",
    "import platform\n",
    "\n",
    "import pandas as pd\n",
    "import numpy as np\n",
    "\n",
    "import time\n",
    "\n",
    "print(f\"- os: {platform.platform()}\")\n",
    "print(f\"- python: {sys.version}\")\n",
    "print(f\"- pandas: {pd.__version__}\")\n",
    "print(f\"- numpy: {np.__version__}\")\n",
    "print(f\"- surprise: {surprise.__version__}\")"
   ]
  },
  {
   "cell_type": "code",
   "execution_count": 2,
   "metadata": {},
   "outputs": [
    {
     "name": "stderr",
     "output_type": "stream",
     "text": [
      "c:\\Users\\SEO\\.conda\\envs\\tensorflow\\lib\\site-packages\\IPython\\core\\interactiveshell.py:3457: DtypeWarning: Columns (4) have mixed types.Specify dtype option on import or set low_memory=False.\n",
      "  exec(code_obj, self.user_global_ns, self.user_ns)\n"
     ]
    }
   ],
   "source": [
    "uir_df = pd.read_csv('C:/Users/SEO/OneDrive - 숭실대학교 - Soongsil University/바탕 화면/MISS/MISS/data/final_uir_df.csv')#566875 rows\n",
    "bookinfo = pd.read_csv('C:/Users/SEO/OneDrive - 숭실대학교 - Soongsil University/바탕 화면/MISS/MISS/data/데이터_단행본도서.csv',encoding='CP949')"
   ]
  },
  {
   "cell_type": "code",
   "execution_count": 3,
   "metadata": {},
   "outputs": [],
   "source": [
    "uir_df = uir_df[['user','item','rating']]\n",
    "bookinfo = pd.merge(bookinfo,uir_df['item'],left_on = '등록번호',right_on ='item',how = 'right')\n",
    "bookinfo.drop_duplicates(inplace = True)"
   ]
  },
  {
   "cell_type": "code",
   "execution_count": 4,
   "metadata": {},
   "outputs": [],
   "source": [
    "uir_df.drop_duplicates(subset=['user','item'],keep = 'last',inplace = True)"
   ]
  },
  {
   "cell_type": "code",
   "execution_count": 8,
   "metadata": {},
   "outputs": [
    {
     "data": {
      "text/plain": [
       "<AxesSubplot:xlabel='rating', ylabel='Count'>"
      ]
     },
     "execution_count": 8,
     "metadata": {},
     "output_type": "execute_result"
    },
    {
     "data": {
      "image/png": "[encoded data removed]",
      "text/plain": [
       "<Figure size 432x288 with 1 Axes>"
      ]
     },
     "metadata": {
      "needs_background": "light"
     },
     "output_type": "display_data"
    }
   ],
   "source": [
    "import seaborn as sns\n",
    "sns.histplot(uir_df['rating'])"
   ]
  },
  {
   "cell_type": "code",
   "execution_count": 5,
   "metadata": {},
   "outputs": [],
   "source": [
    "reader = Reader(rating_scale=(0, 5))\n",
    "data = Dataset.load_from_df(uir_df[[\"user\", \"item\", \"rating\"]], reader)"
   ]
  },
  {
   "cell_type": "code",
   "execution_count": 72,
   "metadata": {},
   "outputs": [],
   "source": [
    "del surprise_results\n",
    "del benchmark"
   ]
  },
  {
   "cell_type": "code",
   "execution_count": 6,
   "metadata": {},
   "outputs": [
    {
     "name": "stdout",
     "output_type": "stream",
     "text": [
      "Attempting:  [<surprise.prediction_algorithms.matrix_factorization.SVD object at 0x000001ADDA8E6B88>, <surprise.prediction_algorithms.matrix_factorization.SVDpp object at 0x000001ADC4C6A088>, <surprise.prediction_algorithms.matrix_factorization.NMF object at 0x000001ADC4B81B08>, <surprise.prediction_algorithms.knns.KNNBaseline object at 0x000001ADC4C44348>, <surprise.prediction_algorithms.knns.KNNBasic object at 0x000001ADC4A16888>, <surprise.prediction_algorithms.knns.KNNWithMeans object at 0x000001ADC4A72F48>] \n",
      "\n",
      "\n",
      "\n",
      "Starting:  <surprise.prediction_algorithms.matrix_factorization.SVD object at 0x000001ADDA8E6B88>\n",
      "Done:  <surprise.prediction_algorithms.matrix_factorization.SVD object at 0x000001ADDA8E6B88> \n",
      "\n",
      "\n",
      "Starting:  <surprise.prediction_algorithms.matrix_factorization.SVDpp object at 0x000001ADC4C6A088>\n",
      "Done:  <surprise.prediction_algorithms.matrix_factorization.SVDpp object at 0x000001ADC4C6A088> \n",
      "\n",
      "\n",
      "Starting:  <surprise.prediction_algorithms.matrix_factorization.NMF object at 0x000001ADC4B81B08>\n",
      "Done:  <surprise.prediction_algorithms.matrix_factorization.NMF object at 0x000001ADC4B81B08> \n",
      "\n",
      "\n",
      "Starting:  <surprise.prediction_algorithms.knns.KNNBaseline object at 0x000001ADC4C44348>\n",
      "Estimating biases using als...\n",
      "Computing the msd similarity matrix...\n",
      "Done computing similarity matrix.\n",
      "Estimating biases using als...\n",
      "Computing the msd similarity matrix...\n",
      "Done computing similarity matrix.\n",
      "Estimating biases using als...\n",
      "Computing the msd similarity matrix...\n",
      "Done computing similarity matrix.\n",
      "Done:  <surprise.prediction_algorithms.knns.KNNBaseline object at 0x000001ADC4C44348> \n",
      "\n",
      "\n",
      "Starting:  <surprise.prediction_algorithms.knns.KNNBasic object at 0x000001ADC4A16888>\n",
      "Computing the msd similarity matrix...\n",
      "Done computing similarity matrix.\n",
      "Computing the msd similarity matrix...\n",
      "Done computing similarity matrix.\n",
      "Computing the msd similarity matrix...\n",
      "Done computing similarity matrix.\n",
      "Done:  <surprise.prediction_algorithms.knns.KNNBasic object at 0x000001ADC4A16888> \n",
      "\n",
      "\n",
      "Starting:  <surprise.prediction_algorithms.knns.KNNWithMeans object at 0x000001ADC4A72F48>\n",
      "Computing the msd similarity matrix...\n",
      "Done computing similarity matrix.\n",
      "Computing the msd similarity matrix...\n",
      "Done computing similarity matrix.\n",
      "Computing the msd similarity matrix...\n",
      "Done computing similarity matrix.\n",
      "Done:  <surprise.prediction_algorithms.knns.KNNWithMeans object at 0x000001ADC4A72F48> \n",
      "\n",
      "\n",
      "\n",
      "\tDONE\n",
      "\n"
     ]
    }
   ],
   "source": [
    "# 협업필터링 비교\n",
    "\n",
    "benchmark = []\n",
    "# Iterate over all algorithms\n",
    "\n",
    "algorithms = [SVD(), SVDpp(),  NMF(), KNNBaseline(), KNNBasic(), KNNWithMeans()]\n",
    "\n",
    "print (\"Attempting: \", str(algorithms), '\\n\\n\\n')\n",
    "\n",
    "for algorithm in algorithms:\n",
    "    print(\"Starting: \" ,str(algorithm))\n",
    "    # Perform cross validation\n",
    "    results = cross_validate(algorithm, data, measures=['RMSE',\"MAE\"], cv=3, verbose=False)\n",
    "    # results = cross_validate(algorithm, data, measures=['RMSE','MAE'], cv=3, verbose=False)\n",
    "    \n",
    "    # Get results & append algorithm name\n",
    "    tmp = pd.DataFrame.from_dict(results).mean(axis=0)\n",
    "    tmp = tmp.append(pd.Series([str(algorithm).split(' ')[0].split('.')[-1]], index=['Algorithm']))\n",
    "    benchmark.append(tmp)\n",
    "    print(\"Done: \" ,str(algorithm), \"\\n\\n\")\n",
    "\n",
    "print ('\\n\\tDONE\\n')"
   ]
  },
  {
   "cell_type": "code",
   "execution_count": 10,
   "metadata": {},
   "outputs": [
    {
     "name": "stdout",
     "output_type": "stream",
     "text": [
      "Estimating biases using als...\n",
      "Estimating biases using als...\n",
      "Estimating biases using als...\n",
      "Evaluating RMSE, MAE of algorithm BaselineOnly on 3 split(s).\n",
      "\n",
      "                  Fold 1  Fold 2  Fold 3  Mean    Std     \n",
      "RMSE (testset)    0.6737  0.6755  0.6779  0.6757  0.0017  \n",
      "MAE (testset)     0.5482  0.5498  0.5518  0.5499  0.0015  \n",
      "Fit time          0.56    0.61    0.59    0.59    0.02    \n",
      "Test time         0.48    0.48    0.44    0.47    0.02    \n",
      "Estimating biases using sgd...\n",
      "Estimating biases using sgd...\n",
      "Estimating biases using sgd...\n",
      "Evaluating RMSE, MAE of algorithm BaselineOnly on 3 split(s).\n",
      "\n",
      "                  Fold 1  Fold 2  Fold 3  Mean    Std     \n",
      "RMSE (testset)    0.6932  0.6960  0.6949  0.6947  0.0012  \n",
      "MAE (testset)     0.5647  0.5669  0.5645  0.5654  0.0011  \n",
      "Fit time          0.41    0.46    0.46    0.44    0.02    \n",
      "Test time         0.96    0.43    0.45    0.61    0.25    \n"
     ]
    }
   ],
   "source": [
    "# 베이스라인 비교\n",
    "\n",
    "bsl_options_als = {\n",
    "    'method': 'als',\n",
    "    'n_epochs': 5,\n",
    "    'reg_u': 12,\n",
    "    'reg_i': 5\n",
    "}\n",
    "algo_als = surprise.BaselineOnly(bsl_options=bsl_options_als)\n",
    "algo_als_result = cross_validate(algo_als, data, measures=[\"RMSE\", \"MAE\"], cv=3, verbose=True)\n",
    "bsl_options_sgd = {\n",
    "    'method': 'sgd',\n",
    "    'n_epochs': 5,\n",
    "    'learning_rate': 0.01,\n",
    "    'reg': 0.01\n",
    "}\n",
    "algo_sgd = surprise.BaselineOnly(bsl_options=bsl_options_sgd)\n",
    "algo_sgd_result = cross_validate(algo_sgd, data, measures=[\"RMSE\", \"MAE\"], cv=3, verbose=True)\n",
    "result= [algo_als_result,algo_sgd_result]\n",
    "name = ['als','sgd']\n",
    "for i in range(len(result)):\n",
    "    tmp = pd.DataFrame.from_dict(result[i]).mean(axis=0)\n",
    "    tmp = tmp.append(pd.Series(['baseline'+'_'+name[i]], index=['Algorithm']))\n",
    "    benchmark.append(tmp)\n"
   ]
  },
  {
   "cell_type": "code",
   "execution_count": 11,
   "metadata": {},
   "outputs": [
    {
     "name": "stdout",
     "output_type": "stream",
     "text": [
      "Computing the cosine similarity matrix...\n",
      "Done computing similarity matrix.\n",
      "Computing the cosine similarity matrix...\n",
      "Done computing similarity matrix.\n",
      "Computing the cosine similarity matrix...\n",
      "Done computing similarity matrix.\n",
      "Computing the msd similarity matrix...\n",
      "Done computing similarity matrix.\n",
      "Computing the msd similarity matrix...\n",
      "Done computing similarity matrix.\n",
      "Computing the msd similarity matrix...\n",
      "Done computing similarity matrix.\n",
      "Estimating biases using als...\n",
      "Computing the pearson_baseline similarity matrix...\n",
      "Done computing similarity matrix.\n",
      "Estimating biases using als...\n",
      "Computing the pearson_baseline similarity matrix...\n",
      "Done computing similarity matrix.\n",
      "Estimating biases using als...\n",
      "Computing the pearson_baseline similarity matrix...\n",
      "Done computing similarity matrix.\n"
     ]
    }
   ],
   "source": [
    "# 유사도 비교 \n",
    "call_sim = ['cosine','msd','pearson_baseline']\n",
    "for name in call_sim:\n",
    "  re = KNNBasic(sim_options={'name': name})\n",
    "  results = cross_validate(re, data, measures=['RMSE','MAE'], cv=3, verbose=False)\n",
    "  tmp = pd.DataFrame.from_dict(results).mean(axis=0)\n",
    "  tmp = tmp.append(pd.Series([name], index=['Algorithm']))\n",
    "  tmp['test_rmse']\n",
    "  benchmark.append(tmp)"
   ]
  },
  {
   "cell_type": "code",
   "execution_count": 12,
   "metadata": {},
   "outputs": [],
   "source": [
    "del surprise_results"
   ]
  },
  {
   "cell_type": "code",
   "execution_count": 13,
   "metadata": {},
   "outputs": [],
   "source": [
    "surprise_results = pd.DataFrame(benchmark).set_index('Algorithm').sort_values('test_rmse')"
   ]
  },
  {
   "cell_type": "code",
   "execution_count": 14,
   "metadata": {},
   "outputs": [
    {
     "data": {
      "text/html": [
       "<div>\n",
       "<style scoped>\n",
       "    .dataframe tbody tr th:only-of-type {\n",
       "        vertical-align: middle;\n",
       "    }\n",
       "\n",
       "    .dataframe tbody tr th {\n",
       "        vertical-align: top;\n",
       "    }\n",
       "\n",
       "    .dataframe thead th {\n",
       "        text-align: right;\n",
       "    }\n",
       "</style>\n",
       "<table border=\"1\" class=\"dataframe\">\n",
       "  <thead>\n",
       "    <tr style=\"text-align: right;\">\n",
       "      <th></th>\n",
       "      <th>test_rmse</th>\n",
       "      <th>test_mae</th>\n",
       "      <th>fit_time</th>\n",
       "      <th>test_time</th>\n",
       "    </tr>\n",
       "    <tr>\n",
       "      <th>Algorithm</th>\n",
       "      <th></th>\n",
       "      <th></th>\n",
       "      <th></th>\n",
       "      <th></th>\n",
       "    </tr>\n",
       "  </thead>\n",
       "  <tbody>\n",
       "    <tr>\n",
       "      <th>SVDpp</th>\n",
       "      <td>0.676011</td>\n",
       "      <td>0.547423</td>\n",
       "      <td>69.056845</td>\n",
       "      <td>2.931488</td>\n",
       "    </tr>\n",
       "    <tr>\n",
       "      <th>baseline_als</th>\n",
       "      <td>0.675688</td>\n",
       "      <td>0.549949</td>\n",
       "      <td>0.587849</td>\n",
       "      <td>0.466379</td>\n",
       "    </tr>\n",
       "    <tr>\n",
       "      <th>SVD</th>\n",
       "      <td>0.685842</td>\n",
       "      <td>0.556515</td>\n",
       "      <td>11.519868</td>\n",
       "      <td>0.798553</td>\n",
       "    </tr>\n",
       "    <tr>\n",
       "      <th>baseline_sgd</th>\n",
       "      <td>0.694706</td>\n",
       "      <td>0.565388</td>\n",
       "      <td>0.443108</td>\n",
       "      <td>0.614127</td>\n",
       "    </tr>\n",
       "    <tr>\n",
       "      <th>KNNBaseline</th>\n",
       "      <td>0.704225</td>\n",
       "      <td>0.572275</td>\n",
       "      <td>5.086912</td>\n",
       "      <td>1.184254</td>\n",
       "    </tr>\n",
       "    <tr>\n",
       "      <th>KNNWithMeans</th>\n",
       "      <td>0.750727</td>\n",
       "      <td>0.606843</td>\n",
       "      <td>4.187339</td>\n",
       "      <td>1.024552</td>\n",
       "    </tr>\n",
       "    <tr>\n",
       "      <th>msd</th>\n",
       "      <td>0.773810</td>\n",
       "      <td>0.629847</td>\n",
       "      <td>3.620417</td>\n",
       "      <td>1.153599</td>\n",
       "    </tr>\n",
       "    <tr>\n",
       "      <th>pearson_baseline</th>\n",
       "      <td>0.770972</td>\n",
       "      <td>0.630441</td>\n",
       "      <td>5.318954</td>\n",
       "      <td>1.080886</td>\n",
       "    </tr>\n",
       "    <tr>\n",
       "      <th>KNNBasic</th>\n",
       "      <td>0.774482</td>\n",
       "      <td>0.630537</td>\n",
       "      <td>4.078590</td>\n",
       "      <td>1.284555</td>\n",
       "    </tr>\n",
       "    <tr>\n",
       "      <th>NMF</th>\n",
       "      <td>0.785435</td>\n",
       "      <td>0.630947</td>\n",
       "      <td>21.079542</td>\n",
       "      <td>0.840552</td>\n",
       "    </tr>\n",
       "    <tr>\n",
       "      <th>cosine</th>\n",
       "      <td>0.775142</td>\n",
       "      <td>0.631466</td>\n",
       "      <td>5.502747</td>\n",
       "      <td>1.213594</td>\n",
       "    </tr>\n",
       "  </tbody>\n",
       "</table>\n",
       "</div>"
      ],
      "text/plain": [
       "                  test_rmse  test_mae   fit_time  test_time\n",
       "Algorithm                                                  \n",
       "SVDpp              0.676011  0.547423  69.056845   2.931488\n",
       "baseline_als       0.675688  0.549949   0.587849   0.466379\n",
       "SVD                0.685842  0.556515  11.519868   0.798553\n",
       "baseline_sgd       0.694706  0.565388   0.443108   0.614127\n",
       "KNNBaseline        0.704225  0.572275   5.086912   1.184254\n",
       "KNNWithMeans       0.750727  0.606843   4.187339   1.024552\n",
       "msd                0.773810  0.629847   3.620417   1.153599\n",
       "pearson_baseline   0.770972  0.630441   5.318954   1.080886\n",
       "KNNBasic           0.774482  0.630537   4.078590   1.284555\n",
       "NMF                0.785435  0.630947  21.079542   0.840552\n",
       "cosine             0.775142  0.631466   5.502747   1.213594"
      ]
     },
     "execution_count": 14,
     "metadata": {},
     "output_type": "execute_result"
    }
   ],
   "source": [
    "surprise_results = surprise_results.sort_values('test_mae')\n",
    "surprise_results"
   ]
  },
  {
   "cell_type": "markdown",
   "metadata": {},
   "source": [
    "baseline_als와  SVDpp모두 유사한 성능을 내는 것을 확인했고 모두 최적화한 대상이 아니기 때문에 최적화 가능한 파라미터가 많은 SVDpp를 최종 모델로 선정하게 되었다."
   ]
  },
  {
   "cell_type": "code",
   "execution_count": 16,
   "metadata": {},
   "outputs": [
    {
     "data": {
      "text/plain": [
       "(array([0, 1, 2, 3, 4]),\n",
       " [Text(0, 0, 'SVDpp'),\n",
       "  Text(1, 0, 'SVD'),\n",
       "  Text(2, 0, 'baseline_sgd'),\n",
       "  Text(3, 0, 'KNNWithMeans'),\n",
       "  Text(4, 0, 'pearson_baseline')])"
      ]
     },
     "execution_count": 16,
     "metadata": {},
     "output_type": "execute_result"
    },
    {
     "data": {
      "image/png": "[encoded data removed]",
      "text/plain": [
       "<Figure size 1080x576 with 1 Axes>"
      ]
     },
     "metadata": {
      "needs_background": "light"
     },
     "output_type": "display_data"
    }
   ],
   "source": [
    "import seaborn as sns\n",
    "import matplotlib.pyplot as plt\n",
    "data = surprise_results.loc[['SVDpp','SVD','baseline_sgd','KNNWithMeans','pearson_baseline']]\n",
    "\n",
    "plt.figure(figsize = (15,8))\n",
    "a = sns.barplot(data = data, x=data.index, y = 'test_mae')\n",
    "a.set(ylim= (0.5,0.7))\n",
    "plt.xticks(rotation = 45)"
   ]
  },
  {
   "cell_type": "markdown",
   "metadata": {},
   "source": [
    "# parameter 최적화"
   ]
  },
  {
   "cell_type": "code",
   "execution_count": 11,
   "metadata": {},
   "outputs": [
    {
     "name": "stdout",
     "output_type": "stream",
     "text": [
      "Collecting optuna\n",
      "  Using cached optuna-2.10.1-py3-none-any.whl (308 kB)\n",
      "Requirement already satisfied: packaging>=20.0 in c:\\users\\seo\\.conda\\envs\\tensorflow\\lib\\site-packages (from optuna) (21.3)\n",
      "Collecting PyYAML\n",
      "  Downloading PyYAML-6.0-cp37-cp37m-win_amd64.whl (153 kB)\n",
      "Collecting sqlalchemy>=1.1.0\n",
      "  Downloading SQLAlchemy-1.4.40-cp37-cp37m-win_amd64.whl (1.6 MB)\n",
      "Collecting cmaes>=0.8.2\n",
      "  Using cached cmaes-0.8.2-py3-none-any.whl (15 kB)\n",
      "Collecting colorlog\n",
      "  Using cached colorlog-6.6.0-py2.py3-none-any.whl (11 kB)\n",
      "Collecting tqdm\n",
      "  Downloading tqdm-4.64.0-py2.py3-none-any.whl (78 kB)\n",
      "Requirement already satisfied: scipy!=1.4.0 in c:\\users\\seo\\.conda\\envs\\tensorflow\\lib\\site-packages (from optuna) (1.7.3)\n",
      "Collecting alembic\n",
      "  Using cached alembic-1.8.1-py3-none-any.whl (209 kB)\n",
      "Requirement already satisfied: numpy in c:\\users\\seo\\.conda\\envs\\tensorflow\\lib\\site-packages (from optuna) (1.21.6)\n",
      "Collecting cliff\n",
      "  Using cached cliff-3.10.1-py3-none-any.whl (81 kB)\n",
      "Requirement already satisfied: pyparsing!=3.0.5,>=2.0.2 in c:\\users\\seo\\.conda\\envs\\tensorflow\\lib\\site-packages (from packaging>=20.0->optuna) (3.0.9)\n",
      "Collecting greenlet!=0.4.17\n",
      "  Downloading greenlet-1.1.2-cp37-cp37m-win_amd64.whl (101 kB)\n",
      "Collecting importlib-metadata\n",
      "  Downloading importlib_metadata-4.12.0-py3-none-any.whl (21 kB)\n",
      "Collecting Mako\n",
      "  Using cached Mako-1.2.1-py3-none-any.whl (78 kB)\n",
      "Collecting importlib-resources\n",
      "  Downloading importlib_resources-5.9.0-py3-none-any.whl (33 kB)\n",
      "Collecting autopage>=0.4.0\n",
      "  Using cached autopage-0.5.1-py3-none-any.whl (29 kB)\n",
      "Collecting pbr!=2.1.0,>=2.0.0\n",
      "  Using cached pbr-5.9.0-py2.py3-none-any.whl (112 kB)\n",
      "Collecting stevedore>=2.0.1\n",
      "  Using cached stevedore-3.5.0-py3-none-any.whl (49 kB)\n",
      "Collecting PrettyTable>=0.7.2\n",
      "  Using cached prettytable-3.3.0-py3-none-any.whl (26 kB)\n",
      "Collecting cmd2>=1.0.0\n",
      "  Using cached cmd2-2.4.2-py3-none-any.whl (147 kB)\n",
      "Requirement already satisfied: wcwidth>=0.1.7 in c:\\users\\seo\\.conda\\envs\\tensorflow\\lib\\site-packages (from cmd2>=1.0.0->cliff->optuna) (0.2.5)\n",
      "Requirement already satisfied: typing-extensions in c:\\users\\seo\\.conda\\envs\\tensorflow\\lib\\site-packages (from cmd2>=1.0.0->cliff->optuna) (4.3.0)\n",
      "Collecting attrs>=16.3.0\n",
      "  Using cached attrs-22.1.0-py2.py3-none-any.whl (58 kB)\n",
      "Collecting pyreadline3\n",
      "  Using cached pyreadline3-3.4.1-py3-none-any.whl (95 kB)\n",
      "Collecting pyperclip>=1.6\n",
      "  Using cached pyperclip-1.8.2.tar.gz (20 kB)\n",
      "Collecting zipp>=0.5\n",
      "  Downloading zipp-3.8.1-py3-none-any.whl (5.6 kB)\n",
      "Requirement already satisfied: colorama in c:\\users\\seo\\.conda\\envs\\tensorflow\\lib\\site-packages (from colorlog->optuna) (0.4.4)\n",
      "Collecting MarkupSafe>=0.9.2\n",
      "  Downloading MarkupSafe-2.1.1-cp37-cp37m-win_amd64.whl (17 kB)\n",
      "Building wheels for collected packages: pyperclip\n",
      "  Building wheel for pyperclip (setup.py): started\n",
      "  Building wheel for pyperclip (setup.py): finished with status 'done'\n",
      "  Created wheel for pyperclip: filename=pyperclip-1.8.2-py3-none-any.whl size=11137 sha256=75589cc2b3643dbc9e00c1e1c2d54f8193705a357f07a8e0663a55ac45f09ba4\n",
      "  Stored in directory: c:\\users\\seo\\appdata\\local\\pip\\cache\\wheels\\9f\\18\\84\\8f69f8b08169c7bae2dde6bd7daf0c19fca8c8e500ee620a28\n",
      "Successfully built pyperclip\n",
      "Installing collected packages: zipp, pyreadline3, pyperclip, pbr, MarkupSafe, importlib-metadata, greenlet, attrs, stevedore, sqlalchemy, PyYAML, PrettyTable, Mako, importlib-resources, cmd2, autopage, tqdm, colorlog, cmaes, cliff, alembic, optuna\n",
      "Successfully installed Mako-1.2.1 MarkupSafe-2.1.1 PrettyTable-3.3.0 PyYAML-6.0 alembic-1.8.1 attrs-22.1.0 autopage-0.5.1 cliff-3.10.1 cmaes-0.8.2 cmd2-2.4.2 colorlog-6.6.0 greenlet-1.1.2 importlib-metadata-4.12.0 importlib-resources-5.9.0 optuna-2.10.1 pbr-5.9.0 pyperclip-1.8.2 pyreadline3-3.4.1 sqlalchemy-1.4.40 stevedore-3.5.0 tqdm-4.64.0 zipp-3.8.1\n"
     ]
    }
   ],
   "source": [
    "!pip install optuna"
   ]
  },
  {
   "cell_type": "code",
   "execution_count": 11,
   "metadata": {},
   "outputs": [],
   "source": [
    "import optuna"
   ]
  },
  {
   "cell_type": "code",
   "execution_count": 12,
   "metadata": {},
   "outputs": [],
   "source": [
    "def objective(trial):\n",
    "    # train_x, valid_x, train_y, valid_y = train_test_split(x_train,y_train, test_size=0.3)\n",
    "    \n",
    "    #define parameters\n",
    "    params = {\n",
    "        'n_factors':trial.suggest_int(\"n_factors\", 50, 120),\n",
    "        'lr_all' : trial.suggest_uniform('lr_all',0.001,0.07),\n",
    "        'reg_all' : trial.suggest_uniform('lr_all',0.001,0.07),\n",
    "    }\n",
    "    \n",
    "\n",
    "    # model fit\n",
    "    model = SVDpp(**params)\n",
    "    result = cross_validate(model, data, measures=['RMSE','MAE'], cv=5, verbose=False)\n",
    "    \n",
    "    # validation prediction\n",
    "    tmp = pd.DataFrame.from_dict(result).mean(axis=0)\n",
    "    # tmp = tmp.append(pd.Series([name], index=['Algorithm']))\n",
    "    score = tmp['test_rmse']\n",
    "    return score"
   ]
  },
  {
   "cell_type": "code",
   "execution_count": 20,
   "metadata": {},
   "outputs": [],
   "source": [
    "def als(trial):\n",
    "    # train_x, valid_x, train_y, valid_y = train_test_split(x_train,y_train, test_size=0.3)\n",
    "    \n",
    "    #define parameters\n",
    "    bsl_options_als = {\n",
    "    'method': trial.suggest_categorical('method',['als','sgd']),\n",
    "    'n_epochs': trial.suggest_int('n_epochs',5,20)\n",
    "    }\n",
    "    if bsl_options_als['method'] == 'als':\n",
    "        bsl_options_als['reg_u'] = trial.suggest_int('reg_u',10,20)\n",
    "        bsl_options_als['reg_i'] = trial.suggest_int('reg_i',10,20)\n",
    "    else:\n",
    "        bsl_options_als['learning_rate'] = trial.suggest_uniform('learning_rate',0.001,0.5)\n",
    "        bsl_options_als['reg'] = trial.suggest_uniform('reg',0.001,0.5)\n",
    "        \n",
    "    algo_als = surprise.BaselineOnly(bsl_options=bsl_options_als)\n",
    "    algo_als_result = cross_validate(algo_als, data, measures=[\"RMSE\", \"MAE\"], cv=5, verbose=False)\n",
    "    \n",
    "    # validation prediction\n",
    "    tmp = pd.DataFrame.from_dict(algo_als_result).mean(axis=0)\n",
    "    # tmp = tmp.append(pd.Series([name], index=['Algorithm']))\n",
    "    score = tmp['test_rmse']\n",
    "    return score"
   ]
  },
  {
   "cell_type": "code",
   "execution_count": 21,
   "metadata": {},
   "outputs": [
    {
     "name": "stderr",
     "output_type": "stream",
     "text": [
      "\u001b[32m[I 2022-08-09 20:48:45,556]\u001b[0m A new study created in memory with name: no-name-1db256a2-9e69-458c-83c4-ce6ea66b90b2\u001b[0m\n"
     ]
    },
    {
     "name": "stdout",
     "output_type": "stream",
     "text": [
      "Estimating biases using sgd...\n",
      "Estimating biases using sgd...\n",
      "Estimating biases using sgd...\n",
      "Estimating biases using sgd...\n",
      "Estimating biases using sgd...\n"
     ]
    },
    {
     "name": "stderr",
     "output_type": "stream",
     "text": [
      "\u001b[32m[I 2022-08-09 20:48:59,504]\u001b[0m Trial 0 finished with value: 0.7292040363097585 and parameters: {'method': 'sgd', 'n_epochs': 18, 'learning_rate': 0.20816151484402529, 'reg': 0.01632696958928701}. Best is trial 0 with value: 0.7292040363097585.\u001b[0m\n"
     ]
    },
    {
     "name": "stdout",
     "output_type": "stream",
     "text": [
      "Estimating biases using als...\n",
      "Estimating biases using als...\n",
      "Estimating biases using als...\n",
      "Estimating biases using als...\n",
      "Estimating biases using als...\n"
     ]
    },
    {
     "name": "stderr",
     "output_type": "stream",
     "text": [
      "\u001b[32m[I 2022-08-09 20:49:10,230]\u001b[0m Trial 1 finished with value: 0.6867047872060729 and parameters: {'method': 'als', 'n_epochs': 7, 'reg_u': 13, 'reg_i': 15}. Best is trial 1 with value: 0.6867047872060729.\u001b[0m\n"
     ]
    },
    {
     "name": "stdout",
     "output_type": "stream",
     "text": [
      "Estimating biases using sgd...\n",
      "Estimating biases using sgd...\n",
      "Estimating biases using sgd...\n",
      "Estimating biases using sgd...\n",
      "Estimating biases using sgd...\n"
     ]
    },
    {
     "name": "stderr",
     "output_type": "stream",
     "text": [
      "\u001b[32m[I 2022-08-09 20:49:23,649]\u001b[0m Trial 2 finished with value: 0.6860473579066583 and parameters: {'method': 'sgd', 'n_epochs': 16, 'learning_rate': 0.08285833068063991, 'reg': 0.028494331222989822}. Best is trial 2 with value: 0.6860473579066583.\u001b[0m\n"
     ]
    },
    {
     "name": "stdout",
     "output_type": "stream",
     "text": [
      "Estimating biases using sgd...\n",
      "Estimating biases using sgd...\n",
      "Estimating biases using sgd...\n",
      "Estimating biases using sgd...\n",
      "Estimating biases using sgd...\n"
     ]
    },
    {
     "name": "stderr",
     "output_type": "stream",
     "text": [
      "\u001b[32m[I 2022-08-09 20:49:34,496]\u001b[0m Trial 3 finished with value: 0.6731464140912189 and parameters: {'method': 'sgd', 'n_epochs': 8, 'learning_rate': 0.10547254015906361, 'reg': 0.31853203956629733}. Best is trial 3 with value: 0.6731464140912189.\u001b[0m\n"
     ]
    },
    {
     "name": "stdout",
     "output_type": "stream",
     "text": [
      "Estimating biases using sgd...\n",
      "Estimating biases using sgd...\n",
      "Estimating biases using sgd...\n",
      "Estimating biases using sgd...\n",
      "Estimating biases using sgd...\n"
     ]
    },
    {
     "name": "stderr",
     "output_type": "stream",
     "text": [
      "\u001b[32m[I 2022-08-09 20:49:47,109]\u001b[0m Trial 4 finished with value: 0.7412082676480873 and parameters: {'method': 'sgd', 'n_epochs': 13, 'learning_rate': 0.3822657385195904, 'reg': 0.3165374216351548}. Best is trial 3 with value: 0.6731464140912189.\u001b[0m\n"
     ]
    },
    {
     "name": "stdout",
     "output_type": "stream",
     "text": [
      "Estimating biases using als...\n",
      "Estimating biases using als...\n",
      "Estimating biases using als...\n",
      "Estimating biases using als...\n",
      "Estimating biases using als...\n"
     ]
    },
    {
     "name": "stderr",
     "output_type": "stream",
     "text": [
      "\u001b[32m[I 2022-08-09 20:49:57,162]\u001b[0m Trial 5 finished with value: 0.6790357340701899 and parameters: {'method': 'als', 'n_epochs': 5, 'reg_u': 10, 'reg_i': 11}. Best is trial 3 with value: 0.6731464140912189.\u001b[0m\n"
     ]
    },
    {
     "name": "stdout",
     "output_type": "stream",
     "text": [
      "Estimating biases using sgd...\n",
      "Estimating biases using sgd...\n",
      "Estimating biases using sgd...\n",
      "Estimating biases using sgd...\n",
      "Estimating biases using sgd...\n"
     ]
    },
    {
     "name": "stderr",
     "output_type": "stream",
     "text": [
      "\u001b[32m[I 2022-08-09 20:50:08,781]\u001b[0m Trial 6 finished with value: 0.6632008940071721 and parameters: {'method': 'sgd', 'n_epochs': 12, 'learning_rate': 0.020665926257793954, 'reg': 0.33943478370913666}. Best is trial 6 with value: 0.6632008940071721.\u001b[0m\n"
     ]
    },
    {
     "name": "stdout",
     "output_type": "stream",
     "text": [
      "Estimating biases using sgd...\n",
      "Estimating biases using sgd...\n",
      "Estimating biases using sgd...\n",
      "Estimating biases using sgd...\n",
      "Estimating biases using sgd...\n"
     ]
    },
    {
     "name": "stderr",
     "output_type": "stream",
     "text": [
      "\u001b[32m[I 2022-08-09 20:50:22,745]\u001b[0m Trial 7 finished with value: 0.6770193548154783 and parameters: {'method': 'sgd', 'n_epochs': 19, 'learning_rate': 0.07707768370015168, 'reg': 0.4085744427149586}. Best is trial 6 with value: 0.6632008940071721.\u001b[0m\n"
     ]
    },
    {
     "name": "stdout",
     "output_type": "stream",
     "text": [
      "Estimating biases using als...\n",
      "Estimating biases using als...\n",
      "Estimating biases using als...\n",
      "Estimating biases using als...\n",
      "Estimating biases using als...\n"
     ]
    },
    {
     "name": "stderr",
     "output_type": "stream",
     "text": [
      "\u001b[32m[I 2022-08-09 20:50:35,002]\u001b[0m Trial 8 finished with value: 0.6933385815281372 and parameters: {'method': 'als', 'n_epochs': 10, 'reg_u': 19, 'reg_i': 18}. Best is trial 6 with value: 0.6632008940071721.\u001b[0m\n"
     ]
    },
    {
     "name": "stdout",
     "output_type": "stream",
     "text": [
      "Estimating biases using als...\n",
      "Estimating biases using als...\n",
      "Estimating biases using als...\n",
      "Estimating biases using als...\n",
      "Estimating biases using als...\n"
     ]
    },
    {
     "name": "stderr",
     "output_type": "stream",
     "text": [
      "\u001b[32m[I 2022-08-09 20:50:53,617]\u001b[0m Trial 9 finished with value: 0.6864382321244038 and parameters: {'method': 'als', 'n_epochs': 19, 'reg_u': 13, 'reg_i': 15}. Best is trial 6 with value: 0.6632008940071721.\u001b[0m\n"
     ]
    },
    {
     "name": "stdout",
     "output_type": "stream",
     "text": [
      "Estimating biases using sgd...\n",
      "Estimating biases using sgd...\n",
      "Estimating biases using sgd...\n",
      "Estimating biases using sgd...\n",
      "Estimating biases using sgd...\n"
     ]
    },
    {
     "name": "stderr",
     "output_type": "stream",
     "text": [
      "\u001b[32m[I 2022-08-09 20:51:06,596]\u001b[0m Trial 10 finished with value: 0.7491599595164816 and parameters: {'method': 'sgd', 'n_epochs': 13, 'learning_rate': 0.43431656946233, 'reg': 0.4959119484690099}. Best is trial 6 with value: 0.6632008940071721.\u001b[0m\n"
     ]
    },
    {
     "name": "stdout",
     "output_type": "stream",
     "text": [
      "Estimating biases using sgd...\n",
      "Estimating biases using sgd...\n",
      "Estimating biases using sgd...\n",
      "Estimating biases using sgd...\n",
      "Estimating biases using sgd...\n"
     ]
    },
    {
     "name": "stderr",
     "output_type": "stream",
     "text": [
      "\u001b[32m[I 2022-08-09 20:51:18,011]\u001b[0m Trial 11 finished with value: 0.6703929210357017 and parameters: {'method': 'sgd', 'n_epochs': 9, 'learning_rate': 0.0130150666439651, 'reg': 0.2306214770894668}. Best is trial 6 with value: 0.6632008940071721.\u001b[0m\n"
     ]
    },
    {
     "name": "stdout",
     "output_type": "stream",
     "text": [
      "Estimating biases using sgd...\n",
      "Estimating biases using sgd...\n",
      "Estimating biases using sgd...\n",
      "Estimating biases using sgd...\n",
      "Estimating biases using sgd...\n"
     ]
    },
    {
     "name": "stderr",
     "output_type": "stream",
     "text": [
      "\u001b[32m[I 2022-08-09 20:51:29,974]\u001b[0m Trial 12 finished with value: 0.6595478386790166 and parameters: {'method': 'sgd', 'n_epochs': 11, 'learning_rate': 0.025773688717430663, 'reg': 0.19850828148691738}. Best is trial 12 with value: 0.6595478386790166.\u001b[0m\n"
     ]
    },
    {
     "name": "stdout",
     "output_type": "stream",
     "text": [
      "Estimating biases using sgd...\n",
      "Estimating biases using sgd...\n",
      "Estimating biases using sgd...\n",
      "Estimating biases using sgd...\n",
      "Estimating biases using sgd...\n"
     ]
    },
    {
     "name": "stderr",
     "output_type": "stream",
     "text": [
      "\u001b[32m[I 2022-08-09 20:51:42,053]\u001b[0m Trial 13 finished with value: 0.7089073334299726 and parameters: {'method': 'sgd', 'n_epochs': 11, 'learning_rate': 0.2303116182850959, 'reg': 0.2000449463278424}. Best is trial 12 with value: 0.6595478386790166.\u001b[0m\n"
     ]
    },
    {
     "name": "stdout",
     "output_type": "stream",
     "text": [
      "Estimating biases using sgd...\n",
      "Estimating biases using sgd...\n",
      "Estimating biases using sgd...\n",
      "Estimating biases using sgd...\n",
      "Estimating biases using sgd...\n"
     ]
    },
    {
     "name": "stderr",
     "output_type": "stream",
     "text": [
      "\u001b[32m[I 2022-08-09 20:51:55,279]\u001b[0m Trial 14 finished with value: 0.6877820800668777 and parameters: {'method': 'sgd', 'n_epochs': 14, 'learning_rate': 0.0037435665943789803, 'reg': 0.1411222096414565}. Best is trial 12 with value: 0.6595478386790166.\u001b[0m\n"
     ]
    }
   ],
   "source": [
    "study = optuna.create_study(sampler=optuna.samplers.TPESampler(),direction='minimize')\n",
    "study.optimize(als,n_trials=15)"
   ]
  },
  {
   "cell_type": "code",
   "execution_count": 41,
   "metadata": {},
   "outputs": [],
   "source": [
    "def objective(trial):\n",
    "    # train_x, valid_x, train_y, valid_y = train_test_split(x_train,y_train, test_size=0.3)\n",
    "    \n",
    "    #define parameters\n",
    "    params = {\n",
    "        'n_factors':trial.suggest_int(\"n_factors\", 10, 50),\n",
    "        'lr_all' : trial.suggest_uniform('lr_all',0.001,0.07),\n",
    "        'reg_all' : trial.suggest_uniform('reg_all',0.001,0.07),\n",
    "    }\n",
    "    \n",
    "    \n",
    "    # model fit\n",
    "    model = SVDpp(**params)\n",
    "    result = cross_validate(model, data, measures=['RMSE','MAE'], cv=5, verbose=False)\n",
    "    \n",
    "    # validation prediction\n",
    "    tmp = pd.DataFrame.from_dict(result).mean(axis=0)\n",
    "    # tmp = tmp.append(pd.Series([name], index=['Algorithm']))\n",
    "    score = tmp['test_rmse']\n",
    "    return score"
   ]
  },
  {
   "cell_type": "code",
   "execution_count": 43,
   "metadata": {},
   "outputs": [
    {
     "name": "stderr",
     "output_type": "stream",
     "text": [
      "\u001b[32m[I 2022-08-09 21:20:47,725]\u001b[0m A new study created in memory with name: no-name-d8afcaeb-f92b-43c4-bbfa-387f86de1e06\u001b[0m\n",
      "\u001b[32m[I 2022-08-09 21:30:51,839]\u001b[0m Trial 0 finished with value: 0.6931390990198232 and parameters: {'n_factors': 31, 'lr_all': 0.055355621840764334, 'reg_all': 0.001668379849052135}. Best is trial 0 with value: 0.6931390990198232.\u001b[0m\n",
      "\u001b[32m[I 2022-08-09 21:38:29,931]\u001b[0m Trial 1 finished with value: 0.6876250001004938 and parameters: {'n_factors': 17, 'lr_all': 0.05841958887362699, 'reg_all': 0.024466102380432977}. Best is trial 1 with value: 0.6876250001004938.\u001b[0m\n",
      "\u001b[32m[I 2022-08-09 21:48:59,035]\u001b[0m Trial 2 finished with value: 0.6694535461911483 and parameters: {'n_factors': 32, 'lr_all': 0.018434778883546235, 'reg_all': 0.02878057563517559}. Best is trial 2 with value: 0.6694535461911483.\u001b[0m\n",
      "\u001b[32m[I 2022-08-09 22:00:30,268]\u001b[0m Trial 3 finished with value: 0.6876736803355199 and parameters: {'n_factors': 37, 'lr_all': 0.04277889168973009, 'reg_all': 0.003937453286324668}. Best is trial 2 with value: 0.6694535461911483.\u001b[0m\n",
      "\u001b[32m[I 2022-08-09 22:12:54,855]\u001b[0m Trial 4 finished with value: 0.674598192727828 and parameters: {'n_factors': 44, 'lr_all': 0.05067969837843633, 'reg_all': 0.027123948033494768}. Best is trial 2 with value: 0.6694535461911483.\u001b[0m\n",
      "\u001b[32m[I 2022-08-09 22:21:37,257]\u001b[0m Trial 5 finished with value: 0.6644458227893424 and parameters: {'n_factors': 22, 'lr_all': 0.02127742716116716, 'reg_all': 0.06542163912991596}. Best is trial 5 with value: 0.6644458227893424.\u001b[0m\n",
      "\u001b[32m[I 2022-08-09 22:32:21,946]\u001b[0m Trial 6 finished with value: 0.6755514533038391 and parameters: {'n_factors': 32, 'lr_all': 0.057551053926430694, 'reg_all': 0.03437905479555466}. Best is trial 5 with value: 0.6644458227893424.\u001b[0m\n",
      "\u001b[32m[I 2022-08-09 22:45:23,357]\u001b[0m Trial 7 finished with value: 0.6735168976615363 and parameters: {'n_factors': 43, 'lr_all': 0.010765147874966033, 'reg_all': 0.009843309195961051}. Best is trial 5 with value: 0.6644458227893424.\u001b[0m\n",
      "\u001b[32m[I 2022-08-09 22:55:15,814]\u001b[0m Trial 8 finished with value: 0.680900516159477 and parameters: {'n_factors': 28, 'lr_all': 0.040415243223376474, 'reg_all': 0.020460817129046915}. Best is trial 5 with value: 0.6644458227893424.\u001b[0m\n",
      "\u001b[32m[I 2022-08-09 23:07:32,267]\u001b[0m Trial 9 finished with value: 0.6778743679498549 and parameters: {'n_factors': 43, 'lr_all': 0.032136077500441736, 'reg_all': 0.019112679124737315}. Best is trial 5 with value: 0.6644458227893424.\u001b[0m\n",
      "\u001b[32m[I 2022-08-09 23:14:13,243]\u001b[0m Trial 10 finished with value: 0.6854963636531279 and parameters: {'n_factors': 12, 'lr_all': 0.0029301497206031986, 'reg_all': 0.06905553423464902}. Best is trial 5 with value: 0.6644458227893424.\u001b[0m\n",
      "\u001b[32m[I 2022-08-09 23:23:31,826]\u001b[0m Trial 11 finished with value: 0.6666570302612552 and parameters: {'n_factors': 24, 'lr_all': 0.02306494477071772, 'reg_all': 0.05265963961337547}. Best is trial 5 with value: 0.6644458227893424.\u001b[0m\n",
      "\u001b[32m[I 2022-08-09 23:32:31,672]\u001b[0m Trial 12 finished with value: 0.6659944114331949 and parameters: {'n_factors': 22, 'lr_all': 0.02449661615014069, 'reg_all': 0.06077819324854947}. Best is trial 5 with value: 0.6644458227893424.\u001b[0m\n",
      "\u001b[32m[I 2022-08-09 23:41:04,329]\u001b[0m Trial 13 finished with value: 0.6666896468733903 and parameters: {'n_factors': 20, 'lr_all': 0.029089950687697173, 'reg_all': 0.06932672307811849}. Best is trial 5 with value: 0.6644458227893424.\u001b[0m\n",
      "\u001b[32m[I 2022-08-09 23:48:31,551]\u001b[0m Trial 14 finished with value: 0.6632925827047771 and parameters: {'n_factors': 16, 'lr_all': 0.016408483971331426, 'reg_all': 0.05089362332687015}. Best is trial 14 with value: 0.6632925827047771.\u001b[0m\n"
     ]
    }
   ],
   "source": [
    "study = optuna.create_study(sampler=optuna.samplers.TPESampler(),direction='minimize')\n",
    "study.optimize(objective,n_trials=15)"
   ]
  },
  {
   "cell_type": "code",
   "execution_count": 46,
   "metadata": {},
   "outputs": [
    {
     "name": "stdout",
     "output_type": "stream",
     "text": [
      "Best trial until now:\n",
      " Value:  0.6632925827047771\n",
      " Params: \n",
      "    n_factors: 16\n",
      "    lr_all: 0.016408483971331426\n",
      "    reg_all: 0.05089362332687015\n"
     ]
    }
   ],
   "source": [
    "\n",
    "print(\"Best trial until now:\")\n",
    "print(\" Value: \", study.best_trial.value)\n",
    "print(\" Params: \")\n",
    "for key, value in study.best_trial.params.items():\n",
    "    print(f\"    {key}: {value}\")"
   ]
  },
  {
   "cell_type": "code",
   "execution_count": 45,
   "metadata": {},
   "outputs": [
    {
     "data": {
      "text/plain": [
       "['study2.pkl']"
      ]
     },
     "execution_count": 45,
     "metadata": {},
     "output_type": "execute_result"
    }
   ],
   "source": [
    "import joblib\n",
    "joblib.dump(study, \"study2.pkl\")"
   ]
  }
 ],
 "metadata": {
  "kernelspec": {
   "display_name": "Python 3.7.13 ('tensorflow')",
   "language": "python",
   "name": "python3"
  },
  "language_info": {
   "codemirror_mode": {
    "name": "ipython",
    "version": 3
   },
   "file_extension": ".py",
   "mimetype": "text/x-python",
   "name": "python",
   "nbconvert_exporter": "python",
   "pygments_lexer": "ipython3",
   "version": "3.7.13"
  },
  "orig_nbformat": 4,
  "vscode": {
   "interpreter": {
    "hash": "b3d1ff310e78768ebd3ed18f453c350a38b368a7f8b4abdf9b9b4bbb1e84b6e1"
   }
  }
 },
 "nbformat": 4,
 "nbformat_minor": 2
}
